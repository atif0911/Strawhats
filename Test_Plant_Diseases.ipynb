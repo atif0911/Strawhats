{
 "cells": [
  {
   "cell_type": "markdown",
   "id": "59223839-bb36-4fe9-a25b-365c49b3808f",
   "metadata": {},
   "source": [
    "### Importing Libraries"
   ]
  },
  {
   "cell_type": "code",
   "execution_count": null,
   "id": "b42d9b15-224a-499b-8601-7b2b4358f00d",
   "metadata": {},
   "outputs": [],
   "source": [
    "import numpy as np\n",
    "import tensorflow as tf\n",
    "from keras.preprocessing.image import ImageDataGenerator\n",
    "import matplotlib.pyplot as plt"
   ]
  },
  {
   "cell_type": "markdown",
   "id": "3ee1d0ff-e98d-479f-b3a3-134b2d91193d",
   "metadata": {},
   "source": [
    "### Test set Image Processing"
   ]
  },
  {
   "cell_type": "code",
   "execution_count": null,
   "id": "5923007d-365f-4c10-9fc9-278c8fcf1edd",
   "metadata": {},
   "outputs": [],
   "source": [
    "validation_set = tf.keras.utils.image_dataset_from_directory(\n",
    "    'valid',\n",
    "    labels=\"inferred\",\n",
    "    label_mode=\"categorical\",\n",
    "    class_names=None,\n",
    "    color_mode=\"rgb\",\n",
    "    batch_size=32,\n",
    "    image_size=(224, 224),\n",
    "    shuffle=True,\n",
    "    seed=None,\n",
    "    validation_split=None,\n",
    "    subset=None,\n",
    "    interpolation=\"bilinear\",\n",
    "    follow_links=False,\n",
    "    crop_to_aspect_ratio=False\n",
    ")\n",
    "class_name = validation_set.class_names\n",
    "print(class_name)"
   ]
  },
  {
   "cell_type": "markdown",
   "id": "409d5548-650c-41b7-b450-9e7a32a5985b",
   "metadata": {},
   "source": [
    "### Loading Model"
   ]
  },
  {
   "cell_type": "code",
   "execution_count": null,
   "id": "96f297ba-bc29-48b0-8eff-22150cd08977",
   "metadata": {},
   "outputs": [],
   "source": [
    "cnn = tf.keras.models.load_model('Pretrained_trained.keras')"
   ]
  },
  {
   "cell_type": "markdown",
   "id": "b5f3e97a-2c08-4099-bee6-795c68ec9787",
   "metadata": {},
   "source": [
    "### Visualising and Performing Prediction on Single image"
   ]
  },
  {
   "cell_type": "code",
   "execution_count": null,
   "id": "336f73c0-9110-4fd9-9148-4eefc614c8f4",
   "metadata": {},
   "outputs": [],
   "source": [
    "#Test Image Visualization\n",
    "import cv2\n",
    "image_path = 'test/Corn_Healthy/healthy (1).jpg'\n",
    "# Reading an image in default mode\n",
    "img = cv2.imread(image_path)\n",
    "img = cv2.cvtColor(img,cv2.COLOR_BGR2RGB) #Converting BGR to RGB\n",
    "# Displaying the image \n",
    "plt.imshow(img)\n",
    "plt.title('Test Image')\n",
    "plt.xticks([])\n",
    "plt.yticks([])\n",
    "plt.show()"
   ]
  },
  {
   "cell_type": "markdown",
   "id": "2f6d2d83-c46f-47ca-abb2-2abf071d760d",
   "metadata": {},
   "source": [
    "### Testing Model"
   ]
  },
  {
   "cell_type": "code",
   "execution_count": null,
   "id": "dacc1ad8-363a-4f0e-ab61-5a90f5f8103e",
   "metadata": {},
   "outputs": [],
   "source": [
    "image = tf.keras.preprocessing.image.load_img(image_path,target_size=(224,224))\n",
    "input_arr = tf.keras.preprocessing.image.img_to_array(image)\n",
    "input_arr = np.array([input_arr])  # Convert single image to a batch.\n",
    "predictions = cnn.predict(input_arr)"
   ]
  },
  {
   "cell_type": "code",
   "execution_count": null,
   "id": "a47addfe-b65f-4044-acf4-44670dbb5566",
   "metadata": {},
   "outputs": [],
   "source": [
    "print(predictions)"
   ]
  },
  {
   "cell_type": "code",
   "execution_count": null,
   "id": "87fdfa79-4f41-4bcf-846f-c3aa053a9d72",
   "metadata": {},
   "outputs": [],
   "source": [
    "result_index = np.argmax(predictions) #Return index of max element\n",
    "print(result_index)"
   ]
  },
  {
   "cell_type": "code",
   "execution_count": null,
   "id": "6215963e-2ff0-48ff-97bb-d2cbfd37e357",
   "metadata": {},
   "outputs": [],
   "source": [
    "class_name = ['Corn_Common_Rust', 'Corn_Gray_Leaf_Spot', 'Corn_Healthy', 'Corn_Northern_Leaf_Blight', 'Cotton_Aphids', 'Cotton_Army_Worm', 'Cotton_Bacterial_Blight', 'Cotton_Healthy', 'Cotton_Powdery_Mildew', 'Rice_Brown_Spot', 'Rice_Healthy', 'Rice_Leaf_Blast', 'Rice_Neck_Blast', 'Sugarcane_Bacterial_Blight', 'Sugarcane_Healthy', 'Sugarcane_Red_Rot', 'Wheat_Brown_Rust', 'Wheat_Healthy', 'Wheat_Yellow_Rust']"
   ]
  },
  {
   "cell_type": "code",
   "execution_count": null,
   "id": "d4a4e978-35ba-4b36-96da-5716d4728487",
   "metadata": {},
   "outputs": [],
   "source": [
    "# Displaying the disease prediction\n",
    "model_prediction = class_name[result_index]\n",
    "plt.imshow(img)\n",
    "plt.title(f\"Disease Name: {model_prediction}\")\n",
    "plt.xticks([])\n",
    "plt.yticks([])\n",
    "plt.show()"
   ]
  },
  {
   "cell_type": "code",
   "execution_count": null,
   "id": "6997d482-cbb3-40b5-b7ba-87e0d41c1927",
   "metadata": {},
   "outputs": [],
   "source": []
  }
 ],
 "metadata": {
  "kernelspec": {
   "display_name": "Python 3 (ipykernel)",
   "language": "python",
   "name": "python3"
  },
  "language_info": {
   "codemirror_mode": {
    "name": "ipython",
    "version": 3
   },
   "file_extension": ".py",
   "mimetype": "text/x-python",
   "name": "python",
   "nbconvert_exporter": "python",
   "pygments_lexer": "ipython3",
   "version": "3.10.13"
  }
 },
 "nbformat": 4,
 "nbformat_minor": 5
}
